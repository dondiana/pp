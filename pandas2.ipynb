{
  "nbformat": 4,
  "nbformat_minor": 0,
  "metadata": {
    "colab": {
      "provenance": [],
      "authorship_tag": "ABX9TyOyNoB5+nMNO+B3VCQx6GHW",
      "include_colab_link": true
    },
    "kernelspec": {
      "name": "python3",
      "display_name": "Python 3"
    },
    "language_info": {
      "name": "python"
    }
  },
  "cells": [
    {
      "cell_type": "markdown",
      "metadata": {
        "id": "view-in-github",
        "colab_type": "text"
      },
      "source": [
        "<a href=\"https://colab.research.google.com/github/dondiana/pp/blob/main/pandas2.ipynb\" target=\"_parent\"><img src=\"https://colab.research.google.com/assets/colab-badge.svg\" alt=\"Open In Colab\"/></a>"
      ]
    },
    {
      "cell_type": "code",
      "source": [
        "#Problem 1\n",
        "import pandas as pd\n",
        "import numpy as np\n",
        "\n",
        "def sum_daily_odd_even(transactions: pd.DataFrame) -> pd.DataFrame:\n",
        "    transactions[\"bool\"] = transactions[\"amount\"]%2 == 0\n",
        "    transactions[\"odd\"] = np.where(~transactions[\"bool\"], transactions[\"amount\"], 0)\n",
        "    transactions[\"even\"] = np.where(transactions[\"bool\"], transactions[\"amount\"], 0)\n",
        "    grouped = transactions.groupby(by=\"transaction_date\", as_index=False).agg(odd_sum=(\"odd\", \"sum\"), even_sum=(\"even\", \"sum\"))\n",
        "    return grouped.sort_values(by=\"transaction_date\", ascending=True)"
      ],
      "metadata": {
        "id": "-2BveR85Q8s_"
      },
      "execution_count": null,
      "outputs": []
    },
    {
      "cell_type": "code",
      "source": [
        "#Problem 2\n",
        "import pandas as pd\n",
        "\n",
        "def count_unique_subjects(teacher: pd.DataFrame) -> pd.DataFrame:\n",
        "    return teacher.groupby('teacher_id')[\n",
        "        'subject_id'\n",
        "        ].nunique().reset_index().rename({\n",
        "            'subject_id':'cnt'\n",
        "        },axis=1)"
      ],
      "metadata": {
        "id": "aVXGaLqJRGNV"
      },
      "execution_count": null,
      "outputs": []
    },
    {
      "cell_type": "code",
      "source": [
        "#Problem 3\n",
        "import pandas as pd\n",
        "\n",
        "def find_primary_department(employee: pd.DataFrame) -> pd.DataFrame:\n",
        "\n",
        "    single = employee.employee_id.unique()[employee.groupby(\"employee_id\").count()[\"department_id\"] == 1]\n",
        "\n",
        "    return pd.concat([employee[employee[\"primary_flag\"] == \"Y\"], employee[employee[\"employee_id\"].isin(single)]])[[\"employee_id\", \"department_id\"]].drop_duplicates(subset =[\"employee_id\"])"
      ],
      "metadata": {
        "id": "1re_OXesX537"
      },
      "execution_count": null,
      "outputs": []
    },
    {
      "cell_type": "code",
      "source": [
        "#Problem 4\n",
        "import pandas as pd\n",
        "\n",
        "def rearrange_products_table(products: pd.DataFrame) -> pd.DataFrame:\n",
        "    df=products.melt(\n",
        "        id_vars=\"product_id\",\n",
        "        value_vars=[\"store1\",\"store2\",\"store3\"],\n",
        "        var_name=\"store\",\n",
        "        value_name=\"price\"\n",
        "    )\n",
        "    df.dropna(subset=\"price\",inplace=True)\n",
        "\n",
        "    return df\n"
      ],
      "metadata": {
        "id": "eVpvqZgGZT75"
      },
      "execution_count": null,
      "outputs": []
    },
    {
      "cell_type": "code",
      "source": [
        "#Problem 5\n",
        "import pandas as pd\n",
        "\n",
        "def calculate_special_bonus(employees: pd.DataFrame) -> pd.DataFrame:\n",
        "\n",
        "    #defining a dataframe\n",
        "    df = pd.DataFrame(employees)\n",
        "\n",
        "    #initializing bonus column as equal to salary column\n",
        "    df['bonus'] = df['salary']\n",
        "\n",
        "    #sorting values in the bonus table\n",
        "    bonus = df[(df['employee_id'] % 2 != 0) & (~df['name'].str.startswith('M'))]\n",
        "\n",
        "    #creating and sorting values in the non-bonus table\n",
        "    non_bonus = df[(df['employee_id'] % 2 == 0) | (df['name'].str.startswith('M'))]\n",
        "\n",
        "    #changing the bonus values to 0\n",
        "    non_bonus.loc[:, 'bonus'] = 0\n",
        "\n",
        "    #there's a potential issue with the SettingWithCopyWarning that may arise when you modify non_bonus['bonus'] = 0. This warning appears because pandas creates a \"view\" of the original DataFrame, and modifying this view can lead to unexpected results. To avoid this warning, you can use .loc to directly assign values.\n",
        "    df_concat = pd.concat([bonus, non_bonus], axis=0).sort_values(by='employee_id', ascending=True)[['employee_id', 'bonus']]\n",
        "\n",
        "    #returning table\n",
        "    return df_concat\n"
      ],
      "metadata": {
        "id": "HvIzGCEI9m_C"
      },
      "execution_count": null,
      "outputs": []
    },
    {
      "cell_type": "code",
      "source": [
        "#Problem 6\n",
        "import pandas as pd\n",
        "\n",
        "def latest_login(logins: pd.DataFrame) -> pd.DataFrame:\n",
        "    # create year column\n",
        "    logins['year']= logins['time_stamp'].dt.year\n",
        "    filtered = logins[logins['year']==2020]\n",
        "    grouped = filtered.groupby('user_id')[['time_stamp']].max().reset_index().rename(columns={'time_stamp':'last_stamp'})\n",
        "    return grouped\n",
        ""
      ],
      "metadata": {
        "id": "vJji1-vgSsg6"
      },
      "execution_count": null,
      "outputs": []
    },
    {
      "cell_type": "code",
      "source": [
        "#Problem 7\n",
        "import pandas as pd\n",
        "\n",
        "def count_salary_categories(accounts: pd.DataFrame) -> pd.DataFrame:\n",
        "    data = []\n",
        "    ls = accounts.loc[accounts[\"income\"] < 20000]\n",
        "    data.append([\"Low Salary\", len(ls.axes[0])])\n",
        "    avs = accounts.loc[(accounts[\"income\"] >= 20000) & (accounts[\"income\"] <= 50000)]\n",
        "    data.append([\"Average Salary\", len(avs.axes[0])])\n",
        "    hs = accounts.loc[accounts[\"income\"] > 50000]\n",
        "    data.append([\"High Salary\", len(hs.axes[0])])\n",
        "\n",
        "    return pd.DataFrame(data, columns = [\"category\", \"accounts_count\"])\n",
        ""
      ],
      "metadata": {
        "id": "uPV5aye_WCgH"
      },
      "execution_count": null,
      "outputs": []
    },
    {
      "cell_type": "code",
      "source": [
        "#Problem 8\n",
        "import pandas as pd\n",
        "\n",
        "def confirmation_rate(signups: pd.DataFrame, confirmations: pd.DataFrame) -> pd.DataFrame:\n",
        "    confirmations.action = confirmations.action.apply(lambda x: 1 if (x == \"confirmed\") else 0)\n",
        "\n",
        "    # Calculate the confirmation rate\n",
        "    grouped = confirmations.groupby(\"user_id\")[\"action\"].mean().reset_index(name = \"confirmation_rate\").merge(signups[\"user_id\"], on = \"user_id\", how = \"right\").fillna(0)\n",
        "\n",
        "    grouped[\"confirmation_rate\"] = round(grouped[\"confirmation_rate\"] + 1e-6, 2)\n",
        "\n",
        "    return grouped"
      ],
      "metadata": {
        "id": "Lh07t2Cbm0ia"
      },
      "execution_count": null,
      "outputs": []
    }
  ]
}