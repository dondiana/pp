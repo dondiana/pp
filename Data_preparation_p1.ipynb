{
  "nbformat": 4,
  "nbformat_minor": 0,
  "metadata": {
    "colab": {
      "provenance": [],
      "authorship_tag": "ABX9TyMjAcSlIREePIB/yHPdvIzu",
      "include_colab_link": true
    },
    "kernelspec": {
      "name": "python3",
      "display_name": "Python 3"
    },
    "language_info": {
      "name": "python"
    }
  },
  "cells": [
    {
      "cell_type": "markdown",
      "metadata": {
        "id": "view-in-github",
        "colab_type": "text"
      },
      "source": [
        "<a href=\"https://colab.research.google.com/github/dondiana/pp2/blob/main/Data_preparation_p1.ipynb\" target=\"_parent\"><img src=\"https://colab.research.google.com/assets/colab-badge.svg\" alt=\"Open In Colab\"/></a>"
      ]
    },
    {
      "cell_type": "code",
      "execution_count": null,
      "metadata": {
        "colab": {
          "base_uri": "https://localhost:8080/"
        },
        "collapsed": true,
        "id": "8GOMhIIjR4Ek",
        "outputId": "c1626460-1dd9-4804-cdf3-c513eb37b6db"
      },
      "outputs": [
        {
          "output_type": "stream",
          "name": "stdout",
          "text": [
            "1.26.4\n",
            "Build Dependencies:\n",
            "  blas:\n",
            "    detection method: pkgconfig\n",
            "    found: true\n",
            "    include directory: /usr/local/include\n",
            "    lib directory: /usr/local/lib\n",
            "    name: openblas64\n",
            "    openblas configuration: USE_64BITINT=1 DYNAMIC_ARCH=1 DYNAMIC_OLDER= NO_CBLAS=\n",
            "      NO_LAPACK= NO_LAPACKE= NO_AFFINITY=1 USE_OPENMP= HASWELL MAX_THREADS=2\n",
            "    pc file directory: /usr/local/lib/pkgconfig\n",
            "    version: 0.3.23.dev\n",
            "  lapack:\n",
            "    detection method: internal\n",
            "    found: true\n",
            "    include directory: unknown\n",
            "    lib directory: unknown\n",
            "    name: dep139863411681952\n",
            "    openblas configuration: unknown\n",
            "    pc file directory: unknown\n",
            "    version: 1.26.4\n",
            "Compilers:\n",
            "  c:\n",
            "    args: -fno-strict-aliasing\n",
            "    commands: cc\n",
            "    linker: ld.bfd\n",
            "    linker args: -Wl,--strip-debug, -fno-strict-aliasing\n",
            "    name: gcc\n",
            "    version: 10.2.1\n",
            "  c++:\n",
            "    commands: c++\n",
            "    linker: ld.bfd\n",
            "    linker args: -Wl,--strip-debug\n",
            "    name: gcc\n",
            "    version: 10.2.1\n",
            "  cython:\n",
            "    commands: cython\n",
            "    linker: cython\n",
            "    name: cython\n",
            "    version: 3.0.8\n",
            "Machine Information:\n",
            "  build:\n",
            "    cpu: x86_64\n",
            "    endian: little\n",
            "    family: x86_64\n",
            "    system: linux\n",
            "  host:\n",
            "    cpu: x86_64\n",
            "    endian: little\n",
            "    family: x86_64\n",
            "    system: linux\n",
            "Python Information:\n",
            "  path: /opt/python/cp310-cp310/bin/python\n",
            "  version: '3.10'\n",
            "SIMD Extensions:\n",
            "  baseline:\n",
            "  - SSE\n",
            "  - SSE2\n",
            "  - SSE3\n",
            "  found:\n",
            "  - SSSE3\n",
            "  - SSE41\n",
            "  - POPCNT\n",
            "  - SSE42\n",
            "  - AVX\n",
            "  - F16C\n",
            "  - FMA3\n",
            "  - AVX2\n",
            "  not found:\n",
            "  - AVX512F\n",
            "  - AVX512CD\n",
            "  - AVX512_KNL\n",
            "  - AVX512_KNM\n",
            "  - AVX512_SKX\n",
            "  - AVX512_CLX\n",
            "  - AVX512_CNL\n",
            "  - AVX512_ICL\n",
            "\n",
            "None\n",
            "[0. 0. 0. 0. 0. 0. 0. 0. 0. 0.]\n",
            "24\n"
          ]
        }
      ],
      "source": [
        "#1 Import the numpy package under the name np\n",
        "import numpy as np\n",
        "#2 Print the numpy version and the configuration\n",
        "print(np.__version__)\n",
        "print(np.show_config())"
      ]
    },
    {
      "cell_type": "code",
      "source": [
        "#3 Create a null vector of size 10\n",
        "import numpy as np\n",
        "null_vector = np.zeros(10)\n",
        "print(null_vector)"
      ],
      "metadata": {
        "colab": {
          "base_uri": "https://localhost:8080/"
        },
        "id": "srv8pRsZVm9D",
        "outputId": "6f9a7c12-00d6-44d6-8ede-18a085d64a9d"
      },
      "execution_count": null,
      "outputs": [
        {
          "output_type": "stream",
          "name": "stdout",
          "text": [
            "[0. 0. 0. 0. 0. 0. 0. 0. 0. 0.]\n"
          ]
        }
      ]
    },
    {
      "cell_type": "code",
      "source": [
        "#4 How to find the memory size of any array\n",
        "import numpy as np\n",
        "array = np.array([1,2,3])\n",
        "memory_size = array.nbytes\n",
        "print(memory_size)"
      ],
      "metadata": {
        "colab": {
          "base_uri": "https://localhost:8080/"
        },
        "id": "CY7BHAXgVw72",
        "outputId": "b7e77a40-7784-45f3-ae70-6b7a0189fdff"
      },
      "execution_count": null,
      "outputs": [
        {
          "output_type": "stream",
          "name": "stdout",
          "text": [
            "24\n"
          ]
        }
      ]
    },
    {
      "cell_type": "code",
      "source": [
        "#5 How to get the documentation of the numpy add function from the command line?\n",
        "import numpy as np\n",
        "help(np.add)"
      ],
      "metadata": {
        "colab": {
          "base_uri": "https://localhost:8080/"
        },
        "collapsed": true,
        "id": "wUS55C_FVEAF",
        "outputId": "e0bd3bd9-122f-4e0b-fd55-b583bb901296"
      },
      "execution_count": null,
      "outputs": [
        {
          "output_type": "stream",
          "name": "stdout",
          "text": [
            "Help on ufunc:\n",
            "\n",
            "add = <ufunc 'add'>\n",
            "    add(x1, x2, /, out=None, *, where=True, casting='same_kind', order='K', dtype=None, subok=True[, signature, extobj])\n",
            "    \n",
            "    Add arguments element-wise.\n",
            "    \n",
            "    Parameters\n",
            "    ----------\n",
            "    x1, x2 : array_like\n",
            "        The arrays to be added.\n",
            "        If ``x1.shape != x2.shape``, they must be broadcastable to a common\n",
            "        shape (which becomes the shape of the output).\n",
            "    out : ndarray, None, or tuple of ndarray and None, optional\n",
            "        A location into which the result is stored. If provided, it must have\n",
            "        a shape that the inputs broadcast to. If not provided or None,\n",
            "        a freshly-allocated array is returned. A tuple (possible only as a\n",
            "        keyword argument) must have length equal to the number of outputs.\n",
            "    where : array_like, optional\n",
            "        This condition is broadcast over the input. At locations where the\n",
            "        condition is True, the `out` array will be set to the ufunc result.\n",
            "        Elsewhere, the `out` array will retain its original value.\n",
            "        Note that if an uninitialized `out` array is created via the default\n",
            "        ``out=None``, locations within it where the condition is False will\n",
            "        remain uninitialized.\n",
            "    **kwargs\n",
            "        For other keyword-only arguments, see the\n",
            "        :ref:`ufunc docs <ufuncs.kwargs>`.\n",
            "    \n",
            "    Returns\n",
            "    -------\n",
            "    add : ndarray or scalar\n",
            "        The sum of `x1` and `x2`, element-wise.\n",
            "        This is a scalar if both `x1` and `x2` are scalars.\n",
            "    \n",
            "    Notes\n",
            "    -----\n",
            "    Equivalent to `x1` + `x2` in terms of array broadcasting.\n",
            "    \n",
            "    Examples\n",
            "    --------\n",
            "    >>> np.add(1.0, 4.0)\n",
            "    5.0\n",
            "    >>> x1 = np.arange(9.0).reshape((3, 3))\n",
            "    >>> x2 = np.arange(3.0)\n",
            "    >>> np.add(x1, x2)\n",
            "    array([[  0.,   2.,   4.],\n",
            "           [  3.,   5.,   7.],\n",
            "           [  6.,   8.,  10.]])\n",
            "    \n",
            "    The ``+`` operator can be used as a shorthand for ``np.add`` on ndarrays.\n",
            "    \n",
            "    >>> x1 = np.arange(9.0).reshape((3, 3))\n",
            "    >>> x2 = np.arange(3.0)\n",
            "    >>> x1 + x2\n",
            "    array([[ 0.,  2.,  4.],\n",
            "           [ 3.,  5.,  7.],\n",
            "           [ 6.,  8., 10.]])\n",
            "\n"
          ]
        }
      ]
    },
    {
      "cell_type": "code",
      "source": [
        "#6 Create a null vector of size 10 but the fifth value which is 1\n",
        "import numpy as np\n",
        "null_vector = np.zeros(10)\n",
        "null_vector[4] = 1\n",
        "print(null_vector)"
      ],
      "metadata": {
        "colab": {
          "base_uri": "https://localhost:8080/"
        },
        "id": "xXStLhcrV1un",
        "outputId": "315d527d-1e7f-4a35-9480-690cacb6568f"
      },
      "execution_count": null,
      "outputs": [
        {
          "output_type": "stream",
          "name": "stdout",
          "text": [
            "[0. 0. 0. 0. 1. 0. 0. 0. 0. 0.]\n"
          ]
        }
      ]
    },
    {
      "cell_type": "code",
      "source": [
        "#7  Create a vector with values ranging from 10 to 49\n",
        "import numpy as np\n",
        "vector = np.arange(10,50)\n",
        "print(vector)"
      ],
      "metadata": {
        "colab": {
          "base_uri": "https://localhost:8080/"
        },
        "id": "Lcuep8FXWWAp",
        "outputId": "5777d4da-33bf-469c-dc24-fce67f67f626"
      },
      "execution_count": null,
      "outputs": [
        {
          "output_type": "stream",
          "name": "stdout",
          "text": [
            "[10 11 12 13 14 15 16 17 18 19 20 21 22 23 24 25 26 27 28 29 30 31 32 33\n",
            " 34 35 36 37 38 39 40 41 42 43 44 45 46 47 48 49]\n"
          ]
        }
      ]
    },
    {
      "cell_type": "code",
      "source": [
        "#8 Reverse a vector (first element becomes last)\n",
        "import numpy as np\n",
        "vector = np.arange(1,11)\n",
        "reversed_vector = vector[::-1]\n",
        "print(reversed_vector)"
      ],
      "metadata": {
        "colab": {
          "base_uri": "https://localhost:8080/"
        },
        "id": "Uit2sNyzWrJk",
        "outputId": "41a03a64-0da4-46d0-a3ab-a498c0c35134"
      },
      "execution_count": null,
      "outputs": [
        {
          "output_type": "stream",
          "name": "stdout",
          "text": [
            "[10  9  8  7  6  5  4  3  2  1]\n"
          ]
        }
      ]
    },
    {
      "cell_type": "code",
      "source": [
        "#9 Create a 3x3 matrix with values ranging from 0 to 8\n",
        "import numpy as np\n",
        "matrix = np.arange(9).reshape(3, 3)\n",
        "print(matrix)\n"
      ],
      "metadata": {
        "colab": {
          "base_uri": "https://localhost:8080/"
        },
        "id": "IYNn3EOuXNGd",
        "outputId": "08902d55-0bff-415f-9cfa-cda137e67dd1"
      },
      "execution_count": null,
      "outputs": [
        {
          "output_type": "stream",
          "name": "stdout",
          "text": [
            "[[0 1 2]\n",
            " [3 4 5]\n",
            " [6 7 8]]\n"
          ]
        }
      ]
    },
    {
      "cell_type": "code",
      "source": [
        "#10 Find indices of non-zero elements from [1,2,0,0,4,0]\n",
        "import numpy as np\n",
        "array = np.array([1, 2, 0, 0, 4, 0])\n",
        "non_zero_indices = np.nonzero(array)\n",
        "print(non_zero_indices)"
      ],
      "metadata": {
        "colab": {
          "base_uri": "https://localhost:8080/"
        },
        "id": "PLvWzWwkXn7v",
        "outputId": "182adf35-62ee-4b7b-a86f-176c472a9618"
      },
      "execution_count": null,
      "outputs": [
        {
          "output_type": "stream",
          "name": "stdout",
          "text": [
            "(array([0, 1, 4]),)\n"
          ]
        }
      ]
    },
    {
      "cell_type": "code",
      "source": [
        "#11 Create a 3x3 identity matrix\n",
        "import numpy as np\n",
        "identity_matrix = np.eye(3)\n",
        "print(identity_matrix)"
      ],
      "metadata": {
        "colab": {
          "base_uri": "https://localhost:8080/"
        },
        "id": "AUGXqj7-YP2t",
        "outputId": "e995825d-130a-4fc0-e1ba-86c18f2ba3ed"
      },
      "execution_count": null,
      "outputs": [
        {
          "output_type": "stream",
          "name": "stdout",
          "text": [
            "[[1. 0. 0.]\n",
            " [0. 1. 0.]\n",
            " [0. 0. 1.]]\n"
          ]
        }
      ]
    },
    {
      "cell_type": "code",
      "source": [
        "#12 Create a 3x3x3 array with random values\n",
        "import numpy as np\n",
        "random_array = np.random.rand(3, 3, 3)\n",
        "print(random_array)"
      ],
      "metadata": {
        "colab": {
          "base_uri": "https://localhost:8080/"
        },
        "id": "OEV2JtxzYhvv",
        "outputId": "848a5ac0-8e13-428b-de71-22033b04567a"
      },
      "execution_count": null,
      "outputs": [
        {
          "output_type": "stream",
          "name": "stdout",
          "text": [
            "[[[0.30957525 0.01927775 0.55615336]\n",
            "  [0.05724445 0.17432607 0.66801193]\n",
            "  [0.25363151 0.84228096 0.82568055]]\n",
            "\n",
            " [[0.20873957 0.73078149 0.046062  ]\n",
            "  [0.67288078 0.37093816 0.24556326]\n",
            "  [0.92577205 0.19583882 0.41836314]]\n",
            "\n",
            " [[0.08848092 0.67365041 0.054168  ]\n",
            "  [0.04762419 0.81965427 0.86934801]\n",
            "  [0.50239217 0.83285076 0.3651924 ]]]\n"
          ]
        }
      ]
    },
    {
      "cell_type": "code",
      "source": [
        "#13 Create a 10x10 array with random values and find the minimum and maximum values\n",
        "import numpy as np\n",
        "random_array = np.random.rand(10,10)\n",
        "min_value = np.min(random_array)\n",
        "max_value = np.max(random_array)\n",
        "print(\"Random Array:\\n\", random_array)\n",
        "print(\"Minimum value:\", min_value)\n",
        "print(\"Maximum value:\", max_value)"
      ],
      "metadata": {
        "colab": {
          "base_uri": "https://localhost:8080/"
        },
        "id": "ThVK9aGKYzxh",
        "outputId": "5f72cb2e-6eee-4c4f-c440-da30fb955264"
      },
      "execution_count": null,
      "outputs": [
        {
          "output_type": "stream",
          "name": "stdout",
          "text": [
            "Random Array:\n",
            " [[0.66041627 0.61914069 0.78579484 0.95969833 0.09311513 0.8768487\n",
            "  0.78433314 0.52004776 0.29963204 0.45388064]\n",
            " [0.31777369 0.94011546 0.95393578 0.61334442 0.04581765 0.92927811\n",
            "  0.85448432 0.68497804 0.66245197 0.20376779]\n",
            " [0.04526324 0.37190124 0.57735324 0.05173411 0.53935503 0.39007712\n",
            "  0.38969688 0.2905175  0.5199429  0.4352086 ]\n",
            " [0.6248025  0.39967266 0.25872253 0.35828537 0.79239146 0.95769331\n",
            "  0.18602362 0.24370354 0.72670276 0.07022315]\n",
            " [0.14294261 0.39588557 0.5607221  0.09736959 0.66083379 0.80951185\n",
            "  0.77179597 0.59528625 0.69436891 0.63260151]\n",
            " [0.42433257 0.51663471 0.46692228 0.3919928  0.94169788 0.26657094\n",
            "  0.42787152 0.65012911 0.29006907 0.09045838]\n",
            " [0.65175554 0.0493438  0.31434846 0.12068599 0.87889048 0.20958246\n",
            "  0.4838471  0.6406315  0.39109894 0.27992424]\n",
            " [0.49065877 0.59610652 0.98558979 0.58295377 0.34967327 0.48302149\n",
            "  0.64329672 0.16031985 0.7245935  0.13232355]\n",
            " [0.09376091 0.15709682 0.75754333 0.22243337 0.16346572 0.49961503\n",
            "  0.06413091 0.31118215 0.57731891 0.43856392]\n",
            " [0.58301495 0.13481706 0.00867795 0.43564466 0.32002332 0.67036605\n",
            "  0.21771557 0.58280529 0.89769353 0.34644803]]\n",
            "Minimum value: 0.008677946177538587\n",
            "Maximum value: 0.9855897937191447\n"
          ]
        }
      ]
    },
    {
      "cell_type": "code",
      "source": [
        "#14 Create a random vector of size 30 and find the mean value\n",
        "import numpy as np\n",
        "random_vector = np.random.rand(30)\n",
        "mean_value = np.mean(random_vector)\n",
        "print(\"Random vector:/n\", random_vector)\n",
        "print(\"Mean value:\", mean_value)"
      ],
      "metadata": {
        "colab": {
          "base_uri": "https://localhost:8080/"
        },
        "id": "wHaVWkiwZXUe",
        "outputId": "ab325e7f-2e33-49e2-c6b1-9d4ad31ad049"
      },
      "execution_count": null,
      "outputs": [
        {
          "output_type": "stream",
          "name": "stdout",
          "text": [
            "Random vector:/n [0.86907706 0.65309812 0.89634778 0.28923081 0.37056335 0.52634112\n",
            " 0.70872401 0.73565628 0.26499587 0.56444104 0.78097303 0.62159668\n",
            " 0.73367796 0.98342295 0.64248972 0.71460335 0.97558228 0.97901315\n",
            " 0.72209618 0.25259674 0.63349476 0.0912722  0.00125326 0.79666899\n",
            " 0.38839113 0.08539729 0.75056703 0.20074484 0.91766626 0.77606928]\n",
            "Mean value: 0.5975350835045644\n"
          ]
        }
      ]
    },
    {
      "cell_type": "code",
      "source": [
        "#15 Create a 2d array with 1 on the border and 0 inside\n",
        "import numpy as np\n",
        "array = np.ones((5, 5))\n",
        "array[1:-1, 1:-1] = 0\n",
        "print(array)"
      ],
      "metadata": {
        "colab": {
          "base_uri": "https://localhost:8080/"
        },
        "id": "6z6ozFKoaMf1",
        "outputId": "6a792553-8499-40a9-8583-a03e8a972cbd"
      },
      "execution_count": null,
      "outputs": [
        {
          "output_type": "stream",
          "name": "stdout",
          "text": [
            "[[1. 1. 1. 1. 1.]\n",
            " [1. 0. 0. 0. 1.]\n",
            " [1. 0. 0. 0. 1.]\n",
            " [1. 0. 0. 0. 1.]\n",
            " [1. 1. 1. 1. 1.]]\n"
          ]
        }
      ]
    },
    {
      "cell_type": "code",
      "source": [
        "#16 How to add a border (filled with 0's) around an existing array?\n",
        "import numpy as np\n",
        "array = np.ones((3, 3))\n",
        "padded_array = np.pad(array, pad_width=1, mode='constant', constant_values=0)\n",
        "# pad_width=1 specifies that you want to add a border of width 1 on all sides.\n",
        "# mode='constant' means you are filling the border with a constant value.\n",
        "# constant_values=0 specifies that the constant value for padding should be 0.\n",
        "print(padded_array)"
      ],
      "metadata": {
        "colab": {
          "base_uri": "https://localhost:8080/"
        },
        "id": "FiZh6tRWbSf5",
        "outputId": "269d4d72-643b-422e-aca2-7e80a3df5720"
      },
      "execution_count": null,
      "outputs": [
        {
          "output_type": "stream",
          "name": "stdout",
          "text": [
            "[[0. 0. 0. 0. 0.]\n",
            " [0. 1. 1. 1. 0.]\n",
            " [0. 1. 1. 1. 0.]\n",
            " [0. 1. 1. 1. 0.]\n",
            " [0. 0. 0. 0. 0.]]\n"
          ]
        }
      ]
    },
    {
      "cell_type": "code",
      "source": [
        "#17 What is the result of the following expression?\\\n",
        "import numpy as np\n",
        "a = 0 * np.nan\n",
        "print(\"0 * np.nan:\", a)\n",
        "b = np.nan == np.nan\n",
        "print(\"np.nan == np.nan:\", b)\n",
        "c = np.inf > np.nan\n",
        "print(\"np.inf > np.nan:\", c)\n",
        "d = np.nan - np.nan\n",
        "print(\"np.nan - np.nan:\", d)\n",
        "e = np.nan in set([np.nan])\n",
        "print(\"np.nan in set([np.nan]):\", e)\n",
        "f = 0.3 == 3 * 0.1\n",
        "print(\"0.3 == 3 * 0.1:\", f)"
      ],
      "metadata": {
        "colab": {
          "base_uri": "https://localhost:8080/"
        },
        "id": "LVSqQ0REez5S",
        "outputId": "a1f65b09-44ac-4b85-c01b-f2304d21aec0"
      },
      "execution_count": null,
      "outputs": [
        {
          "output_type": "stream",
          "name": "stdout",
          "text": [
            "0 * np.nan: nan\n",
            "np.nan == np.nan: False\n",
            "np.inf > np.nan: False\n",
            "np.nan - np.nan: nan\n",
            "np.nan in set([np.nan]): True\n",
            "0.3 == 3 * 0.1: False\n"
          ]
        }
      ]
    },
    {
      "cell_type": "code",
      "source": [
        "#18 Create a 5x5 matrix with values 1,2,3,4 just below the diagonal\n",
        "import numpy as np\n",
        "matrix = np.diag([1, 2, 3, 4], k=-1)\n",
        "# k=-1 means below the main diagonal\n",
        "print(matrix)"
      ],
      "metadata": {
        "colab": {
          "base_uri": "https://localhost:8080/"
        },
        "id": "YAInRWLPgW7z",
        "outputId": "dc32e399-9ee3-46d9-9396-5146dd62e4a0"
      },
      "execution_count": null,
      "outputs": [
        {
          "output_type": "stream",
          "name": "stdout",
          "text": [
            "[[0 0 0 0 0]\n",
            " [1 0 0 0 0]\n",
            " [0 2 0 0 0]\n",
            " [0 0 3 0 0]\n",
            " [0 0 0 4 0]]\n"
          ]
        }
      ]
    },
    {
      "cell_type": "code",
      "source": [
        "#19 Create a 8x8 matrix and fill it with a checkerboard pattern\n",
        "import numpy as np\n",
        "checkerboard = np.zeros((8, 8), dtype=int)\n",
        "checkerboard[1::2, ::2] = 1  # Fill rows starting from 1, every 2nd row, starting at 0th column\n",
        "checkerboard[::2, 1::2] = 1  # Fill rows starting from 0, every 2nd row, starting at 1st column\n",
        "print(checkerboard)"
      ],
      "metadata": {
        "colab": {
          "base_uri": "https://localhost:8080/"
        },
        "id": "7RXnsKG9hAlO",
        "outputId": "12a9f0fe-5e22-4f03-e093-98e8e4533274"
      },
      "execution_count": null,
      "outputs": [
        {
          "output_type": "stream",
          "name": "stdout",
          "text": [
            "[[0 1 0 1 0 1 0 1]\n",
            " [1 0 1 0 1 0 1 0]\n",
            " [0 1 0 1 0 1 0 1]\n",
            " [1 0 1 0 1 0 1 0]\n",
            " [0 1 0 1 0 1 0 1]\n",
            " [1 0 1 0 1 0 1 0]\n",
            " [0 1 0 1 0 1 0 1]\n",
            " [1 0 1 0 1 0 1 0]]\n"
          ]
        }
      ]
    },
    {
      "cell_type": "code",
      "source": [
        "#20 Consider a (6,7,8) shape array, what is the index (x,y,z) of the 100th element?\n",
        "import numpy as np\n",
        "shape = (6, 7, 8)\n",
        "# Find the index of the 100th element (indexing starts at 0, so 100th element has index 99)\n",
        "index = np.unravel_index(99, shape)\n",
        "print(index)"
      ],
      "metadata": {
        "colab": {
          "base_uri": "https://localhost:8080/"
        },
        "id": "UXqPUSL5iNHN",
        "outputId": "737720de-eff1-4a33-de2f-8a671735b44f"
      },
      "execution_count": null,
      "outputs": [
        {
          "output_type": "stream",
          "name": "stdout",
          "text": [
            "(1, 5, 3)\n"
          ]
        }
      ]
    },
    {
      "cell_type": "code",
      "source": [
        "#21 Create a checkerboard 8x8 matrix using the tile function\n",
        "import numpy as np\n",
        "checkerboard_pattern = np.array([[0, 1],\n",
        "                                 [1, 0]])\n",
        "# Use np.tile() to repeat this pattern in an 8x8 grid\n",
        "checkerboard = np.tile(checkerboard_pattern, (4, 4))\n",
        "print(checkerboard)"
      ],
      "metadata": {
        "colab": {
          "base_uri": "https://localhost:8080/"
        },
        "id": "8Osioeq0jCox",
        "outputId": "cd49d9bd-2696-4964-95ad-3b75c2f86812"
      },
      "execution_count": null,
      "outputs": [
        {
          "output_type": "stream",
          "name": "stdout",
          "text": [
            "[[0 1 0 1 0 1 0 1]\n",
            " [1 0 1 0 1 0 1 0]\n",
            " [0 1 0 1 0 1 0 1]\n",
            " [1 0 1 0 1 0 1 0]\n",
            " [0 1 0 1 0 1 0 1]\n",
            " [1 0 1 0 1 0 1 0]\n",
            " [0 1 0 1 0 1 0 1]\n",
            " [1 0 1 0 1 0 1 0]]\n"
          ]
        }
      ]
    },
    {
      "cell_type": "code",
      "source": [
        "#22 Normalize a 5x5 random matrix\n",
        "import numpy as np\n",
        "random_matrix = np.random.rand(5, 5)\n",
        "# Normalize the matrix: (matrix - min) / (max - min)\n",
        "normalized_matrix = (random_matrix - np.min(random_matrix)) / (np.max(random_matrix) - np.min(random_matrix))\n",
        "print(\"Original Matrix:\\n\", random_matrix)\n",
        "print(\"\\nNormalized Matrix:\\n\", normalized_matrix)\n"
      ],
      "metadata": {
        "colab": {
          "base_uri": "https://localhost:8080/"
        },
        "id": "hRwkQ3SpkrOY",
        "outputId": "71088bca-1e28-4dfa-e689-898f7f64b592"
      },
      "execution_count": null,
      "outputs": [
        {
          "output_type": "stream",
          "name": "stdout",
          "text": [
            "Original Matrix:\n",
            " [[0.78901502 0.26575643 0.28111459 0.33701384 0.03593306]\n",
            " [0.44844593 0.80671223 0.70074689 0.04501844 0.57856493]\n",
            " [0.19112338 0.16287917 0.048155   0.54848106 0.52599028]\n",
            " [0.2740047  0.7710462  0.96294316 0.24035619 0.1618955 ]\n",
            " [0.27585311 0.72838023 0.81770288 0.75330737 0.35632851]]\n",
            "\n",
            "Normalized Matrix:\n",
            " [[0.8123773  0.24791895 0.26448636 0.32478695 0.        ]\n",
            " [0.44499285 0.83146794 0.71715921 0.00980074 0.58535703]\n",
            " [0.16740952 0.13694145 0.01318426 0.55290444 0.52864281]\n",
            " [0.25681667 0.79299367 1.         0.22051878 0.13588034]\n",
            " [0.25881061 0.74696832 0.84332395 0.77385814 0.34562239]]\n"
          ]
        }
      ]
    },
    {
      "cell_type": "code",
      "source": [
        "#23 Create a custom dtype that describes a color as four unsigned bytes (RGBA)\n",
        "import numpy as np\n",
        "rgba_dtype = np.dtype([('r', np.uint8), ('g', np.uint8), ('b', np.uint8), ('a', np.uint8)])\n",
        "# Create an example array with this dtype\n",
        "colors = np.array([(255, 0, 0, 255),   # Red\n",
        "                   (0, 255, 0, 255),   # Green\n",
        "                   (0, 0, 255, 255),   # Blue\n",
        "                   (255, 255, 0, 255)], # Yellow\n",
        "                 dtype=rgba_dtype)\n",
        "print(colors)"
      ],
      "metadata": {
        "colab": {
          "base_uri": "https://localhost:8080/"
        },
        "id": "a9j7oYyPli8O",
        "outputId": "dcbe6a68-114e-4471-cadf-5ca66cb0d5a2"
      },
      "execution_count": null,
      "outputs": [
        {
          "output_type": "stream",
          "name": "stdout",
          "text": [
            "[(255,   0,   0, 255) (  0, 255,   0, 255) (  0,   0, 255, 255)\n",
            " (255, 255,   0, 255)]\n"
          ]
        }
      ]
    },
    {
      "cell_type": "code",
      "source": [
        "#24 Multiply a 5x3 matrix by a 3x2 matrix (real matrix product)\n",
        "import numpy as np\n",
        "matrix_5x3 = np.random.rand(5, 3)\n",
        "matrix_3x2 = np.random.rand(3, 2)\n",
        "result = np.dot(matrix_5x3, matrix_3x2)\n",
        "print(\"5x3 Matrix:\\n\", matrix_5x3)\n",
        "print(\"\\n3x2 Matrix:\\n\", matrix_3x2)\n",
        "print(\"\\nResulting 5x2 Matrix:\\n\", result)"
      ],
      "metadata": {
        "colab": {
          "base_uri": "https://localhost:8080/"
        },
        "id": "ocDV-H70mCoa",
        "outputId": "111fa0c4-0219-4162-def7-68a19c198c84"
      },
      "execution_count": null,
      "outputs": [
        {
          "output_type": "stream",
          "name": "stdout",
          "text": [
            "5x3 Matrix:\n",
            " [[0.69826813 0.77182637 0.87818456]\n",
            " [0.78081107 0.45212693 0.39365239]\n",
            " [0.83899935 0.30819239 0.34149567]\n",
            " [0.1513996  0.96103834 0.28714021]\n",
            " [0.5338892  0.2616763  0.93298404]]\n",
            "\n",
            "3x2 Matrix:\n",
            " [[0.45692586 0.66111327]\n",
            " [0.85268627 0.74233222]\n",
            " [0.4272133  0.45655503]]\n",
            "\n",
            "Resulting 5x2 Matrix:\n",
            " [[1.35235463 1.43552549]\n",
            " [0.91046873 1.03155692]\n",
            " [0.7920434  0.9393663 ]\n",
            " [1.01131271 0.94459732]\n",
            " [0.86565876 0.97317054]]\n"
          ]
        }
      ]
    },
    {
      "cell_type": "code",
      "source": [
        "#25 Given a 1D array, negate all elements which are between 3 and 8, in place.\n",
        "import numpy as np\n",
        "array = np.array([1, 2, 3, 4, 5, 6, 7, 8, 9, 10])\n",
        "# Negate all elements between 3 and 8 (inclusive)\n",
        "array[(array > 3) & (array <= 8)] *= -1\n",
        "print(array)"
      ],
      "metadata": {
        "colab": {
          "base_uri": "https://localhost:8080/"
        },
        "id": "iWeC43ytmcDA",
        "outputId": "8e518fae-7772-462c-ab84-885769cbe3ad"
      },
      "execution_count": null,
      "outputs": [
        {
          "output_type": "stream",
          "name": "stdout",
          "text": [
            "[ 1  2  3 -4 -5 -6 -7 -8  9 10]\n"
          ]
        }
      ]
    }
  ]
}