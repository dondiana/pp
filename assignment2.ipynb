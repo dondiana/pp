{
  "nbformat": 4,
  "nbformat_minor": 0,
  "metadata": {
    "colab": {
      "provenance": [],
      "authorship_tag": "ABX9TyPESn5fZWXA2hrMgtKbYWCb",
      "include_colab_link": true
    },
    "kernelspec": {
      "name": "python3",
      "display_name": "Python 3"
    },
    "language_info": {
      "name": "python"
    }
  },
  "cells": [
    {
      "cell_type": "markdown",
      "metadata": {
        "id": "view-in-github",
        "colab_type": "text"
      },
      "source": [
        "<a href=\"https://colab.research.google.com/github/dondiana/pp/blob/main/assignment2.ipynb\" target=\"_parent\"><img src=\"https://colab.research.google.com/assets/colab-badge.svg\" alt=\"Open In Colab\"/></a>"
      ]
    },
    {
      "cell_type": "code",
      "execution_count": 1,
      "metadata": {
        "id": "eBCBQd3HRZDS"
      },
      "outputs": [],
      "source": [
        "import pandas as pd\n",
        "\n",
        "def movie_rating(movies: pd.DataFrame, users: pd.DataFrame, movie_rating: pd.DataFrame) -> pd.DataFrame:\n",
        "\n",
        "    # Find the user who has rated the greatest number of movies\n",
        "    top_movie_rater = (\n",
        "        movie_rating['user_id']\n",
        "        .value_counts()\n",
        "        .rank(method='dense', ascending=False)\n",
        "        .eq(1)\n",
        "        .reset_index()\n",
        "        .merge(users, on='user_id')\n",
        "        .query('count == True')\n",
        "        .reset_index()\n",
        "        .sort_values('name')['name']\n",
        "        .iloc[0]\n",
        "    )\n",
        "\n",
        "    # Find the movie with the highest average rating in February 2020\n",
        "    top_rated_movie_february = (\n",
        "        movie_rating\n",
        "        .merge(movies, on='movie_id')\n",
        "        .loc[movie_rating['created_at'].dt.month == 2]\n",
        "        .loc[movie_rating['created_at'].dt.year == 2020]\n",
        "        .groupby('title')['rating'].mean()\n",
        "        .rank(method='dense', ascending=False)\n",
        "        .reset_index()\n",
        "        .loc[lambda x: x['rating'] == 1]\n",
        "        .sort_values('title')['title']\n",
        "        .iloc[0]\n",
        "    )\n",
        "\n",
        "    return pd.DataFrame({'results': [top_movie_rater, top_rated_movie_february]})"
      ]
    },
    {
      "cell_type": "code",
      "source": [
        "import pandas as pd\n",
        "\n",
        "def capital_gainloss(stocks: pd.DataFrame) -> pd.DataFrame:\n",
        "    def change_price(row):\n",
        "        if row[\"operation\"] == \"Sell\":\n",
        "            return row\n",
        "        else:\n",
        "            row[\"price\"] = -row[\"price\"]\n",
        "            return row\n",
        "    stocks = stocks.agg(change_price, axis=1)\n",
        "    return stocks.groupby(\"stock_name\")[\"price\"].sum().reset_index().rename(columns={\"price\":\"capital_gain_loss\"})"
      ],
      "metadata": {
        "id": "dDBD2QPjRjB2"
      },
      "execution_count": null,
      "outputs": []
    },
    {
      "cell_type": "code",
      "source": [
        "import pandas as pd\n",
        "\n",
        "def second_highest_salary(employee: pd.DataFrame) -> pd.DataFrame:\n",
        "    sorted_salaries = employee['salary'].sort_values(ascending=False).drop_duplicates()\n",
        "    if len(sorted_salaries) > 1:\n",
        "        second_highest = sorted_salaries.iloc[1]\n",
        "    else:\n",
        "        second_highest = None\n",
        "    return pd.DataFrame({'SecondHighestSalary': [second_highest]})"
      ],
      "metadata": {
        "id": "Mm2p5GRATwS8"
      },
      "execution_count": null,
      "outputs": []
    }
  ]
}